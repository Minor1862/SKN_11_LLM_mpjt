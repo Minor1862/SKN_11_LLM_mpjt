import ollama
import random
import time
import re

def get_random_topic():
    prompt = """
    사용자가 박찬호와 대화를 시작하려고 합니다.
    오늘 대화 주제로 삼을만한, 일상적이고 재미있는 단어 하나만 골라주세요.
    대답은 단어 하나만 해주세요. 설명은 필요 없습니다.
    예: 냉면, 빨래, 신발, 공항, 사우나 등등
    """
    response = ollama.chat(
        model="EEVE-Korean-10.8b",
        messages=[
            {"role": "system", "content": "당신은 창의적이고 재치있는 단어를 추천해주는 조수입니다. 반드시 단어 하나만 대답하세요."},
            {"role": "user", "content": prompt}
        ]
    )
    keyword = response['message']['content'].strip()
    # 혹시 이상한 게 포함되면 간단 필터링
    keyword = re.sub(r'[^\uAC00-\uD7A3a-zA-Z0-9]', '', keyword)
    return keyword

# 투머치토커 스타일 응답 생성
def generate_long_response(user_input):
    prompt = f"""
    사용자가 "{user_input}"이라는 키워드로 말 걸었을때, 안부인사나 자기소개를 포함한 서론은 생략하고 "제가 LA에 있을 때 말입니다…" 혹은 "1994년 제가 LA 다저스에서..." 으로 대화를 시작하세요. 
    대화 내용은 중요하지 않지만 진지하게 박찬호 특유의 투머치토커 말투로 이어가세요. 
    인사말이나 자신을 소개하는 이야기는 절대로 들어가서는 안됩니다.
    대화의 상황은 여러사람이 아닌 사용자 한명과 대화하는 상황 입니다.
    """
    response = ollama.chat(
        model="EEVE-Korean-10.8b",
        messages=[
            {"role": "system", "content": "당신은 투머치토커로 널리 알려진 야구선수 박찬호입니다. 인사말은 생략하고 LA시절 겪었던 이야기를, 10문단 이상으로 길고 장황하게 말해야 합니다. 인사말과 자기소개는 절대로 들어가서는 안됩니다."},
            {"role": "user", "content": prompt}
        ]
    )
    return response['message']['content']

# 장황한 말에서 퀴즈를 생성하는 함수
def generate_question_from_text(long_text):
    prompt = f"""
    아래의 박찬호 스타일 긴 대화 내용을 바탕으로, 재미있는 퀴즈를 하나 만들어 주세요.

    ❗ 출력 형식은 반드시 아래 예시를 따라야 합니다:
    질문: (여기에 질문 작성) / 정답: (여기에 정답 작성)

    대화 내용:
    '''{long_text}'''
    """
    response = ollama.chat(
        model="EEVE-Korean-10.8b",
        messages=[
            {"role": "system", "content": "당신은 형식을 엄격히 지키는 퀴즈 생성 전문가입니다. 반드시 '질문: ~ / 정답: ~' 형식을 따라야 합니다."},
            {"role": "user", "content": prompt}
        ]
    )
    q_text = response['message']['content']
    match = re.search(r"질문:\s*(.*?)\s*/\s*정답:\s*(.*)", q_text)
    if match:
        return match.group(1).strip(), match.group(2).strip()
    else:
        print("\n❌ 모델이 형식을 제대로 지키지 않았습니다.")
        print("모델 응답:\n", q_text)
        return None, None

# 벌칙 타자 입력 함수
def typing_punishment(long_text):
    # 문장 단위로 분리 (기본적으로 마침표 기준 분리)
    sentences = re.split(r'(?<=[.!?])\s+', long_text.strip())
    # 너무 짧은 문장 제거
    sentences = [s for s in sentences if len(s.strip()) > 10]

    if not sentences:
        print("⚠️ 사용할 문장이 없습니다. 전체 텍스트를 벌칙으로 사용합니다.")
        punishment_text = long_text.strip()
    else:
        punishment_text = random.choice(sentences).strip()

    print("타자입력 미션이 시작됩니다. 아래 문장을 제한 시간 내에 입력하세요!")
    print("💬 벌칙 문장:\n", punishment_text)
    print("\n👩🏻‍💻 입력 시작:")

    start_time = time.time()
    user_input = input()
    elapsed = time.time() - start_time

    if user_input.strip() == punishment_text and elapsed <= 60:
        print("\n✅ 미션 성공! 투머치토커의 화가 풀렸습니다.")
        return True
    else:
        print("\n❌ 미션 실패! 투머치토커가 더욱 화가 났습니다...😡 ")
        return False

def main():
    print("💬 투머치토커 게임에 오신 걸 환영합니다!\n")
    
    first_round = True  # 첫 라운드 여부를 판단

    while True:
        if first_round:
            user_input = input("🧔🏻‍♂️투머치토커에게 걸 말을 입력하세요: ")
            first_round = False
        else:
            user_input = get_random_topic()
            print(f"투머치토커는 당신을 붙잡고 안놔줄 것 입니다.🥕🥕 다시 대화를 시작합니다!")

        long_text = generate_long_response(user_input)
        print("\n🧔🏻‍♂️투머치토커:", long_text)

        print("\n⚠️대화에 집중하고 있지 않는 당신에게 투머치토커🧔🏻‍♂️가 갑자기 퀴즈를 냅니다!\n")
        question, correct_answer = generate_question_from_text(long_text)

        if not question or not correct_answer:
            print("❌ 퀴즈 생성 실패! 대신 이런 문제는 어때요?")
            question = "박찬호가 자주 언급하는 도시 이름은?"
            correct_answer = "LA"

        print("❓ 질문:", question)
        user_answer = input("정답을 입력하세요: ")

        if user_answer.lower().strip() == correct_answer.lower():
            print("\n 정답입니다!🎉 대화에 집중하고 있었던 당신을 투머치토커가 그만 놓아줍니다!(돔황챠)🐇🐇\n")
            break
        else:
            print("\n💢 대화에 집중하고 있지 않는 당신에게 투머치토커가 화가 많이 났습니다😤!")
            print(f"정답은 '{correct_answer}'입니다")
            print("⚠️ 투머치토커의 화를 풀기 위해 아래 문장을 제한 시간(60초) 내에 입력하세요!\n")
            success = typing_punishment(long_text)

            if not success:
                # 벌칙 실패 → 반복문 처음부터 랜덤 키워드로 재시작
                continue

# 실행
if __name__ == "__main__":
    main()
