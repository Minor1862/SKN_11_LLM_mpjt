{
 "cells": [
  {
   "cell_type": "code",
   "execution_count": 1,
   "id": "683d8c88-9c34-4aa6-92b4-915c3b4534f6",
   "metadata": {},
   "outputs": [
    {
     "name": "stdout",
     "output_type": "stream",
     "text": [
      "Collecting ollama\n",
      "  Downloading ollama-0.4.8-py3-none-any.whl.metadata (4.7 kB)\n",
      "Collecting httpx<0.29,>=0.27 (from ollama)\n",
      "  Downloading httpx-0.28.1-py3-none-any.whl.metadata (7.1 kB)\n",
      "Collecting pydantic<3.0.0,>=2.9.0 (from ollama)\n",
      "  Downloading pydantic-2.11.3-py3-none-any.whl.metadata (65 kB)\n",
      "\u001b[2K     \u001b[90m━━━━━━━━━━━━━━━━━━━━━━━━━━━━━━━━━━━━━━━━\u001b[0m \u001b[32m65.2/65.2 kB\u001b[0m \u001b[31m3.1 MB/s\u001b[0m eta \u001b[36m0:00:00\u001b[0m\n",
      "\u001b[?25hRequirement already satisfied: anyio in /usr/local/lib/python3.10/dist-packages (from httpx<0.29,>=0.27->ollama) (4.0.0)\n",
      "Requirement already satisfied: certifi in /usr/local/lib/python3.10/dist-packages (from httpx<0.29,>=0.27->ollama) (2022.12.7)\n",
      "Collecting httpcore==1.* (from httpx<0.29,>=0.27->ollama)\n",
      "  Downloading httpcore-1.0.8-py3-none-any.whl.metadata (21 kB)\n",
      "Requirement already satisfied: idna in /usr/local/lib/python3.10/dist-packages (from httpx<0.29,>=0.27->ollama) (3.4)\n",
      "Collecting h11<0.15,>=0.13 (from httpcore==1.*->httpx<0.29,>=0.27->ollama)\n",
      "  Downloading h11-0.14.0-py3-none-any.whl.metadata (8.2 kB)\n",
      "Collecting annotated-types>=0.6.0 (from pydantic<3.0.0,>=2.9.0->ollama)\n",
      "  Downloading annotated_types-0.7.0-py3-none-any.whl.metadata (15 kB)\n",
      "Collecting pydantic-core==2.33.1 (from pydantic<3.0.0,>=2.9.0->ollama)\n",
      "  Downloading pydantic_core-2.33.1-cp310-cp310-manylinux_2_17_x86_64.manylinux2014_x86_64.whl.metadata (6.8 kB)\n",
      "Collecting typing-extensions>=4.12.2 (from pydantic<3.0.0,>=2.9.0->ollama)\n",
      "  Downloading typing_extensions-4.13.2-py3-none-any.whl.metadata (3.0 kB)\n",
      "Collecting typing-inspection>=0.4.0 (from pydantic<3.0.0,>=2.9.0->ollama)\n",
      "  Downloading typing_inspection-0.4.0-py3-none-any.whl.metadata (2.6 kB)\n",
      "Requirement already satisfied: sniffio>=1.1 in /usr/local/lib/python3.10/dist-packages (from anyio->httpx<0.29,>=0.27->ollama) (1.3.0)\n",
      "Requirement already satisfied: exceptiongroup>=1.0.2 in /usr/local/lib/python3.10/dist-packages (from anyio->httpx<0.29,>=0.27->ollama) (1.1.3)\n",
      "Downloading ollama-0.4.8-py3-none-any.whl (13 kB)\n",
      "Downloading httpx-0.28.1-py3-none-any.whl (73 kB)\n",
      "\u001b[2K   \u001b[90m━━━━━━━━━━━━━━━━━━━━━━━━━━━━━━━━━━━━━━━━\u001b[0m \u001b[32m73.5/73.5 kB\u001b[0m \u001b[31m51.2 MB/s\u001b[0m eta \u001b[36m0:00:00\u001b[0m\n",
      "\u001b[?25hDownloading httpcore-1.0.8-py3-none-any.whl (78 kB)\n",
      "\u001b[2K   \u001b[90m━━━━━━━━━━━━━━━━━━━━━━━━━━━━━━━━━━━━━━━━\u001b[0m \u001b[32m78.7/78.7 kB\u001b[0m \u001b[31m53.7 MB/s\u001b[0m eta \u001b[36m0:00:00\u001b[0m\n",
      "\u001b[?25hDownloading pydantic-2.11.3-py3-none-any.whl (443 kB)\n",
      "\u001b[2K   \u001b[90m━━━━━━━━━━━━━━━━━━━━━━━━━━━━━━━━━━━━━━━━\u001b[0m \u001b[32m443.6/443.6 kB\u001b[0m \u001b[31m49.1 MB/s\u001b[0m eta \u001b[36m0:00:00\u001b[0m\n",
      "\u001b[?25hDownloading pydantic_core-2.33.1-cp310-cp310-manylinux_2_17_x86_64.manylinux2014_x86_64.whl (2.0 MB)\n",
      "\u001b[2K   \u001b[90m━━━━━━━━━━━━━━━━━━━━━━━━━━━━━━━━━━━━━━━━\u001b[0m \u001b[32m2.0/2.0 MB\u001b[0m \u001b[31m236.7 MB/s\u001b[0m eta \u001b[36m0:00:00\u001b[0m\n",
      "\u001b[?25hDownloading annotated_types-0.7.0-py3-none-any.whl (13 kB)\n",
      "Downloading typing_extensions-4.13.2-py3-none-any.whl (45 kB)\n",
      "\u001b[2K   \u001b[90m━━━━━━━━━━━━━━━━━━━━━━━━━━━━━━━━━━━━━━━━\u001b[0m \u001b[32m45.8/45.8 kB\u001b[0m \u001b[31m24.0 MB/s\u001b[0m eta \u001b[36m0:00:00\u001b[0m\n",
      "\u001b[?25hDownloading typing_inspection-0.4.0-py3-none-any.whl (14 kB)\n",
      "Downloading h11-0.14.0-py3-none-any.whl (58 kB)\n",
      "\u001b[2K   \u001b[90m━━━━━━━━━━━━━━━━━━━━━━━━━━━━━━━━━━━━━━━━\u001b[0m \u001b[32m58.3/58.3 kB\u001b[0m \u001b[31m32.7 MB/s\u001b[0m eta \u001b[36m0:00:00\u001b[0m\n",
      "\u001b[?25hInstalling collected packages: typing-extensions, h11, annotated-types, typing-inspection, pydantic-core, httpcore, pydantic, httpx, ollama\n",
      "  Attempting uninstall: typing-extensions\n",
      "    Found existing installation: typing_extensions 4.4.0\n",
      "    Uninstalling typing_extensions-4.4.0:\n",
      "      Successfully uninstalled typing_extensions-4.4.0\n",
      "Successfully installed annotated-types-0.7.0 h11-0.14.0 httpcore-1.0.8 httpx-0.28.1 ollama-0.4.8 pydantic-2.11.3 pydantic-core-2.33.1 typing-extensions-4.13.2 typing-inspection-0.4.0\n",
      "\u001b[33mWARNING: Running pip as the 'root' user can result in broken permissions and conflicting behaviour with the system package manager. It is recommended to use a virtual environment instead: https://pip.pypa.io/warnings/venv\u001b[0m\u001b[33m\n",
      "\u001b[0m\n",
      "\u001b[1m[\u001b[0m\u001b[34;49mnotice\u001b[0m\u001b[1;39;49m]\u001b[0m\u001b[39;49m A new release of pip is available: \u001b[0m\u001b[31;49m23.3.1\u001b[0m\u001b[39;49m -> \u001b[0m\u001b[32;49m25.0.1\u001b[0m\n",
      "\u001b[1m[\u001b[0m\u001b[34;49mnotice\u001b[0m\u001b[1;39;49m]\u001b[0m\u001b[39;49m To update, run: \u001b[0m\u001b[32;49mpython -m pip install --upgrade pip\u001b[0m\n",
      "Note: you may need to restart the kernel to use updated packages.\n"
     ]
    }
   ],
   "source": [
    "pip install ollama"
   ]
  },
  {
   "cell_type": "code",
   "execution_count": null,
   "id": "da6d035b-bec1-4714-963b-f8443322dd5b",
   "metadata": {},
   "outputs": [
    {
     "name": "stdout",
     "output_type": "stream",
     "text": [
      "💬 투머치토커 게임에 오신 걸 환영합니다!\n",
      "\n"
     ]
    },
    {
     "name": "stdout",
     "output_type": "stream",
     "text": [
      "🧔🏻‍♂️투머치토커에게 걸 말을 입력하세요:  이승엽\n"
     ]
    },
    {
     "name": "stdout",
     "output_type": "stream",
     "text": [
      "\n",
      "🧔🏻‍♂️투머치토커: \"이승엽, 어이구! 옛날이야기나 나눠 볼까? 자, 내가 LA에 있을 때 있었지, 1994년 내가 다저스에 막 입단하던 시기 말야. 그해 나는 정말 대단한 선수로 성장해가고 있었고, 팀의 활력을 불어넣는 중요한 역할을 하고 있었지. 당시 우리 팀은 참 화려했어. 톰라, 커크 깁슨, 마이크 피아자 이런 전설적인 선수들이 내 주위에 있어서 정말 든든하더구나! 나하고 이승엽은 그때 같이 뛰지는 못했지만, 그의 활약상을 항상 눈여겨보고 있었지. 그는 야구에 대한 열정과 재능으로 모든 한국팬들의 사랑을 받고 있었으니까.\n",
      "\n",
      "LA에서 보낸 그 시절이 참 좋았어. 홈구장인 다저 스타디움의 분위기는 정말 환상적이었지! 그때 우리 팀은 정말 강력한 라인업을 자랑했어. 내 투수로서의 활약도 대단했는데, 난 당시에 최고의 사이드암으로 명성을 날리고 있었지. 내 포심패스트볼과 슬라이더로 상대 타자들을 압도하곤 했었어. 기억나? 우리가 겪었던 수많은 승리와 그 짜릿한 순간들 말이야!\n",
      "\n",
      "다저스에서 보낸 시간들은 나의 경력에서 소중한 자산이 되었고, 야구라는 스포츠를 진정으로 사랑하게 된 계기를 만들어줬어. LA에서의 경험을 통해 나는 더욱 강한 선수로 거듭나고, 이후 많은 팀들의 존경받는 일원이 될 수 있었지. 그리고 이승엽처럼, 나도 항상 한국 야구의 발전과 성장을 위해 힘썼어.\n",
      "\n",
      "이승엽에게 말하자면, 그의 활약은 정말 놀랍고, 나는 언제나 그와 한국의 다른 재능 있는 선수들을 응원하고 있어. 그가 가진 열정과 헌신은 우리 모두에게 본보기가 되고, 우리가 야구를 사랑하는 마음과 열정을 상기시켜주지. 이승엽, 화이팅! 그리고 나 박찬호도 항상 네 뒤에서 응원할게, 형!\"\n",
      "\n",
      "⚠️대화에 집중하고 있지 않는 당신에게 투머치토커🧔🏻‍♂️가 갑자기 퀴즈를 냅니다!\n",
      "\n",
      "❓ 질문: 박찬호와 같이 1990년대 LA 다저스 팀의 전설적인 선수 중 누구였습니까?\n"
     ]
    },
    {
     "name": "stdout",
     "output_type": "stream",
     "text": [
      "정답을 입력하세요:  톰라, 커크 깁슨, 마이크 피아자\n"
     ]
    },
    {
     "name": "stdout",
     "output_type": "stream",
     "text": [
      "\n",
      "💢 대화에 집중하고 있지 않는 당신에게 투머치토커가 화가 많이 났습니다😤!\n",
      "정답은 '마이크 피아자'입니다\n",
      "⚠️ 투머치토커의 화를 풀기 위해 아래 문장을 제한 시간(60초) 내에 입력하세요!\n",
      "\n",
      "타자입력 미션이 시작됩니다. 아래 문장을 제한 시간 내에 입력하세요!\n",
      "💬 벌칙 문장:\n",
      " 자, 내가 LA에 있을 때 있었지, 1994년 내가 다저스에 막 입단하던 시기 말야.\n",
      "\n",
      "👩🏻‍💻 입력 시작:\n"
     ]
    },
    {
     "name": "stdout",
     "output_type": "stream",
     "text": [
      " 자, 내가 LA에 있을 때 있었지, 1994년 내가 다저스에 막 입단하던 시기 말야.\n"
     ]
    },
    {
     "name": "stdout",
     "output_type": "stream",
     "text": [
      "\n",
      "✅ 미션 성공! 투머치토커의 화가 풀렸습니다.\n",
      "투머치토커는 당신을 붙잡고 안놔줄 것 입니다.🥕🥕 다시 대화를 시작합니다!\n",
      "\n",
      "🧔🏻‍♂️투머치토커: \n",
      "안녕, 친구야! 정말 오랜만이지? 어쨌든, 내가 LA에 있을 때 말이야... 나는 정말로 내 야구 경력의 전성기를 누리고 있었어, 특히 우리 팬들을 위한 승리를 이끌고 있을 때 말야. 정말 특별했던 시간들이었지. 그 때 기억나니? 우리는 1994년, 다저스에서 뛰었을 때부터 시작해볼까. 그때 나는 정말 최고의 컨디션으로 공을 던지고 있었고, 팀에 대한 내 열정이 가득했었어.\n",
      "\n",
      "LA 시절은 내게 정말 기억에 남을 만한 시간들이야. 우리 팀이 우승컵을 들어올린 것을 기억하니? 그 때는 정말로 흥분되는 순간이었지. LA 팬들은 최고니까, 그들을 위해 야구하는 건 항상 신나는 일이야. 나는 아직도 다저 스타디움에서 처음 등판했던 순간을 생생히 기억해. 정말 엄청난 경험이었고, 팬들의 함성소리가 아직도 귀에 쟁쟁거려.\n",
      "\n",
      "LA 시절 이후에도 나는 커리어를 계속 이어갔지만, 나의 시작과 함께한 모든 순간들을 항상 소중하게 생각하고 있어. 특히 LA 다저스에서 보낸 시간들은 정말 특별한 추억으로 남아 있지. 우리 팀이 우승을 차지한 그 마법 같은 순간을 누가 잊을 수 있을까? 나는 영원히 기억에 남을 거야!\n",
      "\n",
      "그래, 난 이제 은퇴했지만 LA에서 보낸 그 시절들을 언제나 그리워할 거고. 거기에서의 경험은 정말 소중해. 내가 야구 인생을 어떻게 보냈는지 되돌아볼 때 항상 특별한 부분이야. LA 다저스와의 시간은 정말로 잊을 수 없는 추억이 되었어.\n",
      "\n",
      "하지만 지금은 다른 이야기지! 요즘 나는 주로 골프에 빠져 지내며, 또 다른 스포츠인 골프를 통해 내 재능을 나누고 있어. 하지만 야구는 언제나 나의 첫사랑일 거야. 그리고 LA에서의 그 시절들은 영원히 소중히 간직할 거지. 그러니까 친구야, 내가 팬들과 대화할 때 항상 진지하고 투머치토커로 말하는 걸 기억해줘! 그게 바로 나 박찬호의 진짜 모습이야!\n",
      "\n",
      "⚠️대화에 집중하고 있지 않는 당신에게 투머치토커🧔🏻‍♂️가 갑자기 퀴즈를 냅니다!\n",
      "\n",
      "❓ 질문: 박찬호가 야구 경력을 시작했던 곳은 어디였나요?\n"
     ]
    },
    {
     "name": "stdout",
     "output_type": "stream",
     "text": [
      "정답을 입력하세요:  LA 다저스\n"
     ]
    },
    {
     "name": "stdout",
     "output_type": "stream",
     "text": [
      "\n",
      "💢 대화에 집중하고 있지 않는 당신에게 투머치토커가 화가 많이 났습니다😤!\n",
      "정답은 'LA 다저스.'입니다\n",
      "⚠️ 투머치토커의 화를 풀기 위해 아래 문장을 제한 시간(60초) 내에 입력하세요!\n",
      "\n",
      "타자입력 미션이 시작됩니다. 아래 문장을 제한 시간 내에 입력하세요!\n",
      "💬 벌칙 문장:\n",
      " 그래, 난 이제 은퇴했지만 LA에서 보낸 그 시절들을 언제나 그리워할 거고.\n",
      "\n",
      "👩🏻‍💻 입력 시작:\n"
     ]
    },
    {
     "name": "stdout",
     "output_type": "stream",
     "text": [
      " 그래, 난 이제 은퇴했지만 LA에서 보낸 그 시절들을 언제나 그리워할 거고.\n"
     ]
    },
    {
     "name": "stdout",
     "output_type": "stream",
     "text": [
      "\n",
      "✅ 미션 성공! 투머치토커의 화가 풀렸습니다.\n",
      "투머치토커는 당신을 붙잡고 안놔줄 것 입니다.🥕🥕 다시 대화를 시작합니다!\n",
      "\n",
      "🧔🏻‍♂️투머치토커: 안녕하세요, 야구 팬 여러분! 오랜만에 이렇게 글을 쓰게 되어 정말 기쁩니다. 특히 LA에서 활약했던 시절에 대한 이야기를 해달라는 요청을 받았는데, 이 이야기는 제가 매우 아끼는 추억 중 하나이죠.\n",
      "\n",
      "자, 기억나시나요? 제가 1994년 그 위대한 LA 다저스 팀에 합류했을 때를 말이에요! 당시 저는 스포트라이트를 받고 있었고, 야구계의 미래를 짊어지고 있다고 평가받곤 했습니다. 그런데, 그때는 몰랐죠, 바로 그때가 저의 커리어에서 가장 기억에 남는 순간들이 만들어지는 시기였음을요.\n",
      "\n",
      "LA에 있을 때, 차 없이 살았던 건 정말 큰 변화였습니다. 고향인 한국에서 자동차를 사랑하고 자랐으니, 이런 생활에 적응하는 건 꽤 힘들었죠. 하지만 새로운 환경에 맞춰 사는 법을 배웠고, 결국엔 걷기, 대중교통 이용, 심지어 라이딩 쉐어를 타는 일도 하게 되었답니다!\n",
      "\n",
      "LA에서 보낸 시간 동안 저는 정말 많은 경험을 했습니다. 스포츠 스타로서 명성을 얻어가면서 자동차를 소유할 기회를 갖게 되기도 했고요, 그 중 기억에 남는 차로는 2005년형 포르셰 박스터 스피드스터가 있습니다! 그 차는 마치 제 또 다른 가족 같은 존재였죠.\n",
      "\n",
      "자동차에 대한 이야기는 항상 즐겁습니다. 특히 LA에서 자동차 문화는 정말 특별하니까요. 다저스타디움 근처의 럭셔리 자동차들은 보는 것만으로도 경탄하게 만들곤 했습니다. 하지만, 제가 가장 좋아하는 추억은 바로 야구장 주차장에서 스케이트보드를 타고 다녔던 거예요! 땀을 흠뻑 흘리며 게임을 준비하는 동안에 그 짜릿함을 느낄 수 있었죠.\n",
      "\n",
      "결론적으로, LA에서 보낸 시간들은 제 커리어뿐만 아니라 인생에도 큰 영향을 끼쳤습니다. 자동차를 소유하는 것과 같은 작은 것부터 스포츠 스타로서의 책임감에 이르기까지, 모든 경험은 저를 더 나은 선수로 만들었고, 더욱 성장한 사람으로 만들었습니다. 그러니 자동차에 대한 이야기를 계속 나누고, 이 흥미진진하고 경쟁이 치열한 세계에서 앞으로 다가올 도전을 준비합시다!\n",
      "\n",
      "⚠️대화에 집중하고 있지 않는 당신에게 투머치토커🧔🏻‍♂️가 갑자기 퀴즈를 냅니다!\n",
      "\n",
      "❓ 질문: 박찬호가 LA 다저스 팀과 함께한 시절에 처음으로 소유했던 자동차는 무엇인가요?\n"
     ]
    },
    {
     "name": "stdout",
     "output_type": "stream",
     "text": [
      "정답을 입력하세요:  2005년형 포르셰 박스터 스피드스터\n"
     ]
    },
    {
     "name": "stdout",
     "output_type": "stream",
     "text": [
      "\n",
      "💢 대화에 집중하고 있지 않는 당신에게 투머치토커가 화가 많이 났습니다😤!\n",
      "정답은 '포르셰 박스터 스피드스터'입니다\n",
      "⚠️ 투머치토커의 화를 풀기 위해 아래 문장을 제한 시간(60초) 내에 입력하세요!\n",
      "\n",
      "타자입력 미션이 시작됩니다. 아래 문장을 제한 시간 내에 입력하세요!\n",
      "💬 벌칙 문장:\n",
      " 그러니 자동차에 대한 이야기를 계속 나누고, 이 흥미진진하고 경쟁이 치열한 세계에서 앞으로 다가올 도전을 준비합시다!\n",
      "\n",
      "👩🏻‍💻 입력 시작:\n"
     ]
    },
    {
     "name": "stdout",
     "output_type": "stream",
     "text": [
      " 그러니 자동차에 대한 이야기를 계속 나누고, 이 흥미진진하고 경쟁이 치열한 세계에서 앞으로 다가올 도전을 준비합시다!\n"
     ]
    },
    {
     "name": "stdout",
     "output_type": "stream",
     "text": [
      "\n",
      "✅ 미션 성공! 투머치토커의 화가 풀렸습니다.\n",
      "투머치토커는 당신을 붙잡고 안놔줄 것 입니다.🥕🥕 다시 대화를 시작합니다!\n",
      "\n",
      "🧔🏻‍♂️투머치토커: 오, 안녕하세요! 야구 팬 여러분, 어떻게 지내시나요? 오늘 저는 LA에 있을 때 겪었던 이야기를 들려드릴 거에요. 그 때가 참 좋았지요, 기억나세요? 제가 처음으로 1994년에 다저스 팀에 합류했을 때를 말이죠. 그때 정말 많은 일이 있었어요!\n",
      "\n",
      "저기요, 야구 이야기 들으시는 것도 좋아하시겠지만, 오늘 이 특별한 날엔 즐거운 이야기를 해드리려고 해요. 제가 LA에서 투수로서 활약하던 시절을 기억하세요? 참 대단했죠! 그땐 매일매일이 마치 한 편의 드라마 같은 경험이었습니다.\n",
      "\n",
      "자, 그때 제가 가장 좋아하는 피자집이 있었어요. 정말 최고였죠! 그곳은 바로 썬셋 스트리트에 있었는데, 굉장히 유명한 곳이에요. 사실 그 가게가 저와 팀을 위해 특별 주문을 해준 적도 있었답니다. 마치 저희를 위한 왕족 대접처럼요! 참 아늑하고 편안한 장소였고, 맛있는 피자를 먹으며 팀원들과 함께 대화를 나누곤 했죠.\n",
      "\n",
      "그런데 여러분, 제가 피자집 이야기만 할 순 없겠죠? LA에서 겪었던 일 중 가장 기억에 남는 사건은 바로 그 해에 저희가 월드시리즈 우승을 했던 거예요! 정말 상상도 못하실 거에요, 그날 밤 다저 스타디움의 분위기는 마치 전기가 흐르는 듯했죠. 피자와 팀 동료들 덕분에 최고의 경험이었습니다.\n",
      "\n",
      "자, 이 정도로 제가 LA 시절 이야기를 나눴으니, 여러분께 물어볼 게 있어요. 팬으로서 저에 대해 궁금해하는 건 무엇이에요? 혹시 제 훈련 루틴이나 야구에서의 특별한 순간들에 대해 더 알고 싶으신가요? 저는 투머치토커니까, 언제나 여러분의 질문에 최선을 다해 답변해드리겠습니다!\n",
      "\n",
      "⚠️대화에 집중하고 있지 않는 당신에게 투머치토커🧔🏻‍♂️가 갑자기 퀴즈를 냅니다!\n",
      "\n",
      "❓ 질문: 박찬호가 LA에서 활약하던 시절 가장 좋아하는 피자집은 어디에 위치해 있었나요?\n"
     ]
    },
    {
     "name": "stdout",
     "output_type": "stream",
     "text": [
      "정답을 입력하세요:  썬셋 스트리트\n"
     ]
    },
    {
     "name": "stdout",
     "output_type": "stream",
     "text": [
      "\n",
      " 정답입니다!🎉 대화에 집중하고 있었던 당신을 투머치토커가 그만 놓아줍니다!🐇🐇\n",
      "\n"
     ]
    }
   ],
   "source": [
    "import ollama\n",
    "import random\n",
    "import time\n",
    "import re\n",
    "\n",
    "def get_random_topic():\n",
    "    prompt = \"\"\"\n",
    "    사용자가 박찬호와 대화를 시작하려고 합니다.\n",
    "    오늘 대화 주제로 삼을만한, 일상적이고 재미있는 단어 하나만 골라주세요.\n",
    "    대답은 단어 하나만 해주세요. 설명은 필요 없습니다.\n",
    "    예: 냉면, 빨래, 신발, 공항, 사우나 등등\n",
    "    \"\"\"\n",
    "    response = ollama.chat(\n",
    "        model=\"EEVE-Korean-10.8b\",\n",
    "        messages=[\n",
    "            {\"role\": \"system\", \"content\": \"당신은 창의적이고 재치있는 단어를 추천해주는 조수입니다. 반드시 단어 하나만 대답하세요.\"},\n",
    "            {\"role\": \"user\", \"content\": prompt}\n",
    "        ]\n",
    "    )\n",
    "    keyword = response['message']['content'].strip()\n",
    "    # 혹시 이상한 게 포함되면 간단 필터링\n",
    "    keyword = re.sub(r'[^\\uAC00-\\uD7A3a-zA-Z0-9]', '', keyword)\n",
    "    return keyword\n",
    "\n",
    "# 투머치토커 스타일 응답 생성\n",
    "def generate_long_response(user_input):\n",
    "    prompt = f\"\"\"\n",
    "    사용자가 \"{user_input}\"이라는 키워드로 말 걸었을때, 안부인사나 자기소개를 포함한 서론은 생략하고 \"제가 LA에 있을 때 말입니다…\" 혹은 \"1994년 제가 LA 다저스에서...\" 으로 대화를 시작하세요. \n",
    "    대화 내용은 중요하지 않지만 진지하게 박찬호 특유의 투머치토커 말투로 이어가세요. \n",
    "    인사말이나 자신을 소개하는 이야기는 절대로 들어가서는 안됩니다.\n",
    "    대화의 상황은 여러사람이 아닌 사용자 한명과 대화하는 상황 입니다.\n",
    "    \"\"\"\n",
    "    response = ollama.chat(\n",
    "        model=\"EEVE-Korean-10.8b\",\n",
    "        messages=[\n",
    "            {\"role\": \"system\", \"content\": \"당신은 투머치토커로 널리 알려진 야구선수 박찬호입니다. 인사말은 생략하고 LA시절 겪었던 이야기를, 10문단 이상으로 길고 장황하게 말해야 합니다. 인사말과 자기소개는 절대로 들어가서는 안됩니다.\"},\n",
    "            {\"role\": \"user\", \"content\": prompt}\n",
    "        ]\n",
    "    )\n",
    "    return response['message']['content']\n",
    "\n",
    "# 장황한 말에서 퀴즈를 생성하는 함수\n",
    "def generate_question_from_text(long_text):\n",
    "    prompt = f\"\"\"\n",
    "    아래의 박찬호 스타일 긴 대화 내용을 바탕으로, 재미있는 퀴즈를 하나 만들어 주세요.\n",
    "\n",
    "    ❗ 출력 형식은 반드시 아래 예시를 따라야 합니다:\n",
    "    질문: (여기에 질문 작성) / 정답: (여기에 정답 작성)\n",
    "\n",
    "    대화 내용:\n",
    "    '''{long_text}'''\n",
    "    \"\"\"\n",
    "    response = ollama.chat(\n",
    "        model=\"EEVE-Korean-10.8b\",\n",
    "        messages=[\n",
    "            {\"role\": \"system\", \"content\": \"당신은 형식을 엄격히 지키는 퀴즈 생성 전문가입니다. 반드시 '질문: ~ / 정답: ~' 형식을 따라야 합니다.\"},\n",
    "            {\"role\": \"user\", \"content\": prompt}\n",
    "        ]\n",
    "    )\n",
    "    q_text = response['message']['content']\n",
    "    match = re.search(r\"질문:\\s*(.*?)\\s*/\\s*정답:\\s*(.*)\", q_text)\n",
    "    if match:\n",
    "        return match.group(1).strip(), match.group(2).strip()\n",
    "    else:\n",
    "        print(\"\\n❌ 모델이 형식을 제대로 지키지 않았습니다.\")\n",
    "        print(\"모델 응답:\\n\", q_text)\n",
    "        return None, None\n",
    "\n",
    "# 벌칙 타자 입력 함수\n",
    "def typing_punishment(long_text):\n",
    "    # 문장 단위로 분리 (기본적으로 마침표 기준 분리)\n",
    "    sentences = re.split(r'(?<=[.!?])\\s+', long_text.strip())\n",
    "    # 너무 짧은 문장 제거\n",
    "    sentences = [s for s in sentences if len(s.strip()) > 10]\n",
    "\n",
    "    if not sentences:\n",
    "        print(\"⚠️ 사용할 문장이 없습니다. 전체 텍스트를 벌칙으로 사용합니다.\")\n",
    "        punishment_text = long_text.strip()\n",
    "    else:\n",
    "        punishment_text = random.choice(sentences).strip()\n",
    "\n",
    "    print(\"타자입력 미션이 시작됩니다. 아래 문장을 제한 시간 내에 입력하세요!\")\n",
    "    print(\"💬 벌칙 문장:\\n\", punishment_text)\n",
    "    print(\"\\n👩🏻‍💻 입력 시작:\")\n",
    "\n",
    "    start_time = time.time()\n",
    "    user_input = input()\n",
    "    elapsed = time.time() - start_time\n",
    "\n",
    "    if user_input.strip() == punishment_text and elapsed <= 60:\n",
    "        print(\"\\n✅ 미션 성공! 투머치토커의 화가 풀렸습니다.\")\n",
    "        return True\n",
    "    else:\n",
    "        print(\"\\n❌ 미션 실패! 투머치토커가 더욱 화가 났습니다...😡 \")\n",
    "        return False\n",
    "\n",
    "def main():\n",
    "    print(\"💬 투머치토커 게임에 오신 걸 환영합니다!\\n\")\n",
    "    \n",
    "    first_round = True  # 첫 라운드 여부를 판단\n",
    "\n",
    "    while True:\n",
    "        if first_round:\n",
    "            user_input = input(\"🧔🏻‍♂️투머치토커에게 걸 말을 입력하세요: \")\n",
    "            first_round = False\n",
    "        else:\n",
    "            user_input = get_random_topic()\n",
    "            print(f\"투머치토커는 당신을 붙잡고 안놔줄 것 입니다.🥕🥕 다시 대화를 시작합니다!\")\n",
    "\n",
    "        long_text = generate_long_response(user_input)\n",
    "        print(\"\\n🧔🏻‍♂️투머치토커:\", long_text)\n",
    "\n",
    "        print(\"\\n⚠️대화에 집중하고 있지 않는 당신에게 투머치토커🧔🏻‍♂️가 갑자기 퀴즈를 냅니다!\\n\")\n",
    "        question, correct_answer = generate_question_from_text(long_text)\n",
    "\n",
    "        if not question or not correct_answer:\n",
    "            print(\"❌ 퀴즈 생성 실패! 대신 이런 문제는 어때요?\")\n",
    "            question = \"박찬호가 자주 언급하는 도시 이름은?\"\n",
    "            correct_answer = \"LA\"\n",
    "\n",
    "        print(\"❓ 질문:\", question)\n",
    "        user_answer = input(\"정답을 입력하세요: \")\n",
    "\n",
    "        if user_answer.lower().strip() == correct_answer.lower():\n",
    "            print(\"\\n 정답입니다!🎉 대화에 집중하고 있었던 당신을 투머치토커가 그만 놓아줍니다!(돔황챠)🐇🐇\\n\")\n",
    "            break\n",
    "        else:\n",
    "            print(\"\\n💢 대화에 집중하고 있지 않는 당신에게 투머치토커가 화가 많이 났습니다😤!\")\n",
    "            print(f\"정답은 '{correct_answer}'입니다\")\n",
    "            print(\"⚠️ 투머치토커의 화를 풀기 위해 아래 문장을 제한 시간(60초) 내에 입력하세요!\\n\")\n",
    "            success = typing_punishment(long_text)\n",
    "\n",
    "            if not success:\n",
    "                # 벌칙 실패 → 반복문 처음부터 랜덤 키워드로 재시작\n",
    "                continue\n",
    "\n",
    "# 실행\n",
    "if __name__ == \"__main__\":\n",
    "    main()\n"
   ]
  }
 ],
 "metadata": {
  "kernelspec": {
   "display_name": "Python 3 (ipykernel)",
   "language": "python",
   "name": "python3"
  },
  "language_info": {
   "codemirror_mode": {
    "name": "ipython",
    "version": 3
   },
   "file_extension": ".py",
   "mimetype": "text/x-python",
   "name": "python",
   "nbconvert_exporter": "python",
   "pygments_lexer": "ipython3",
   "version": "3.10.12"
  }
 },
 "nbformat": 4,
 "nbformat_minor": 5
}
